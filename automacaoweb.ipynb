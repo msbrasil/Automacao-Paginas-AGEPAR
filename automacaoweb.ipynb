{
 "cells": [
  {
   "cell_type": "markdown",
   "metadata": {},
   "source": [
    "# Automação para preenchimento de páginas"
   ]
  },
  {
   "cell_type": "markdown",
   "metadata": {},
   "source": [
    "### Pacotes\n",
    "Manipular dados dos dos municípios, timer para funcionamento do código e manipulação de informações contida na área de transferência do computador."
   ]
  },
  {
   "cell_type": "code",
   "execution_count": 37,
   "metadata": {},
   "outputs": [],
   "source": [
    "import pandas as pd     #manipular dados\n",
    "from time import sleep  #timer para realizar o captcha\n",
    "import pyperclip        #usar conteudo na area de transferencia (copia e cola)"
   ]
  },
  {
   "cell_type": "markdown",
   "metadata": {},
   "source": [
    "### pacotes para utilizar o navegador e mouse"
   ]
  },
  {
   "cell_type": "code",
   "execution_count": 1,
   "metadata": {},
   "outputs": [],
   "source": [
    "from selenium import webdriver                  #utilizar o navegador\n",
    "from selenium.webdriver.common.by import By     #procurar elementos pelo nome\n",
    "from selenium.webdriver.common.keys import Keys #utilizar teclas não-alfanuméricas\n",
    "import pyautogui                                #controlar mouse e teclado"
   ]
  },
  {
   "cell_type": "markdown",
   "metadata": {},
   "source": [
    "### Lista com todos municipios"
   ]
  },
  {
   "cell_type": "code",
   "execution_count": 75,
   "metadata": {},
   "outputs": [],
   "source": [
    "MunicipiosParana = pd.read_excel('cidadesParana.xlsx') #base com municipios do parana"
   ]
  },
  {
   "cell_type": "code",
   "execution_count": null,
   "metadata": {},
   "outputs": [],
   "source": [
    "MunicipiosParana.head() #A base possui o nome e código de referência no IPARDES\n"
   ]
  },
  {
   "cell_type": "markdown",
   "metadata": {},
   "source": [
    "### Script para fazer login como adminstrador no site e looping de preenchimento"
   ]
  },
  {
   "cell_type": "code",
   "execution_count": null,
   "metadata": {},
   "outputs": [],
   "source": [
    "############ Login como administrador do site ############\n",
    "\n",
    "firefox = webdriver.Firefox(executable_path='geckodriver.exe')          #manipula o firefox\n",
    "firefox.get(\"http://www.agepar.pr.gov.br/user\")                         #abre pagina de login da agepar\n",
    "firefox.find_element_by_name('name').send_keys('')                      #digita usuário\n",
    "firefox.find_element_by_name('pass').send_keys('')                      #digita senha\n",
    "sleep(5)                                                                #nesse momento, responder a conta do captcha...\n",
    "firefox.find_element_by_xpath('//*[@id=\"edit-submit\"]').click()         #aperta enter\n",
    "\n",
    "############ Loop para preenchimento das páginas ##############\n",
    "\n",
    "for i in range(347):                    #Percorre cada uma das linhas da base\n",
    "    firefox.get(f\"http://www.agepar.pr.gov.br/Endereco/{MunicipiosParana['Municipios'][i]}\")                                #acessa página do municipio\n",
    "    firefox.find_element_by_xpath('/html/body/div[1]/div[2]/section/div/section/div/div/div/div/nav/ul/li[2]/a').click()    #seleciona a aba de edição\n",
    "    sleep(5)                            #espera a pagina carregar todos os elementos\n",
    "    pyautogui.click(x=-1263, y=985)     #clica no botão que ativa o modo código-fonte\n",
    "    sleep(1)                            #espera a conversão de texto em html\n",
    "    pyautogui.click(x=-1058, y=1048)    #clica na caixa de preenchimento de texto \n",
    "    pyautogui.hotkey('ctrl', 'a')       #atalho para selecionar todo o texto na caixa\n",
    "    pyautogui.press('delete')           #deleta o texto (se houver)\n",
    "    pyperclip.copy(f'''<div class=\"layoutmanager\"> \n",
    "<div class=\"container-fluid layout-container\">\n",
    "<div class=\"layout-row row\">\n",
    "<div class=\"col-sm-12 layout-column\">\n",
    "<div class=\"layout-column-editable layout-column-one\">\n",
    "<p>Agência Reguladora de Serviços Públicos Delegados do Paraná (Agepar)</p>\n",
    "\n",
    "<p>Clique no link e baixe as informações sobre a sua cidade:</p>\n",
    "\n",
    "<p><span class=\"fontawesome-icon-inline\"><span class=\"fontawesome-icon-inline\"></span></span><a href=\"http://www.agepar.pr.gov.br/sites/default/arquivos_restritos/files/documento/2021-06/{MunicipiosParana['Municipios'][i]}.pdf\" target=\"_blank\"><span class=\"fontawesome-icon-inline\"><span class=\"fa-2x fa-faucet fas\"></span>&nbsp;</span><strong>Serviços Públicos de Saneamento</strong></a></p>\n",
    "\n",
    "<p><a href=\"http://www.ipardes.gov.br/cadernos/MontaCadPdf1.php?Municipio={MunicipiosParana['Codigo'][i]}&amp;btOk=ok\" target=\"_blank\"><span class=\"fontawesome-icon-inline\"><span class=\"fa-2x fa-book-open fas\"></span>&nbsp;</span><strong>Caderno Estatístico do Município</strong></a></p>\n",
    "</div>\n",
    "</div>\n",
    "</div>\n",
    "</div>\n",
    "</div>\n",
    "\n",
    "<hr />\n",
    "<p>Prefeitura</p>''')   #copiar na area de transferencia todo o código html com a cidade e código de referência.\n",
    "    pyautogui.hotkey(\"ctrl\", \"v\")                                   #comando para colar texto na caixa\n",
    "    firefox.find_element_by_xpath('//*[@id=\"edit-submit\"]').click() #salva a edição \n",
    "\n",
    "firefox.close()         #quando o processo termina o navegador será fechado\n",
    "print('Todos as páginas foram preenchidas')                         #mensagem de conclusão\n"
   ]
  }
 ],
 "metadata": {
  "interpreter": {
   "hash": "08820d80d9da2e8b8362dd7eb175f13515edfba605b5089051618ffd8d1308cc"
  },
  "kernelspec": {
   "display_name": "Python 3.10.1 64-bit",
   "language": "python",
   "name": "python3"
  },
  "language_info": {
   "codemirror_mode": {
    "name": "ipython",
    "version": 3
   },
   "file_extension": ".py",
   "mimetype": "text/x-python",
   "name": "python",
   "nbconvert_exporter": "python",
   "pygments_lexer": "ipython3",
   "version": "3.10.1"
  },
  "orig_nbformat": 4
 },
 "nbformat": 4,
 "nbformat_minor": 2
}
